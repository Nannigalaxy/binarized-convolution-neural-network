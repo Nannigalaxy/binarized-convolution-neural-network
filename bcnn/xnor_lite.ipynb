{
 "cells": [
  {
   "cell_type": "markdown",
   "metadata": {},
   "source": [
    "# Notebook for BNN and XNOR-Net Training\n",
    "Using Kannada MNIST Dataset"
   ]
  },
  {
   "cell_type": "code",
   "execution_count": 1,
   "metadata": {},
   "outputs": [
    {
     "name": "stderr",
     "output_type": "stream",
     "text": [
      "Using TensorFlow backend.\n"
     ]
    }
   ],
   "source": [
    "import os\n",
    "import numpy as np\n",
    "import pandas as pd\n",
    "from matplotlib import pyplot as plt\n",
    "from sklearn.metrics import confusion_matrix, classification_report\n",
    "import itertools\n",
    "\n",
    "import tensorflow.compat.v1 as tf\n",
    "# tf.disable_v2_behavior()\n",
    "from CustomOps.customOps import SetSession\n",
    "\n",
    "# Call this first here, to make sure that Tensorflow registers our custom ops properly\n",
    "# SetSession()\n",
    "\n",
    "from tensorflow.keras.models import Model, load_model\n",
    "from tensorflow.keras.layers import Dense, Flatten, Input, BatchNormalization, Conv2D, Activation, MaxPooling2D\n",
    "from tensorflow.keras.optimizers import Adam\n",
    "from tensorflow.keras.utils import to_categorical\n",
    "from tensorflow.keras import backend as K\n",
    "from tensorflow.keras.utils import plot_model\n",
    "\n",
    "from CompositeLayers.ConvBNReluLayer import ConvBNReluLayer\n",
    "from CompositeLayers.BinaryNetConvBNReluLayer import BinaryNetConvBNReluLayer, BinaryNetActivation\n",
    "from CustomLayers.CustomLayersDictionary import customLayersDictionary\n",
    "from CompositeLayers.XNORConvLayer import XNORConvBNReluLayer, BNXNORConvReluLayer\n",
    "from NetworkParameters import NetworkParameters\n",
    "from CustomLayers.CustomLayersDictionary import customLayerCallbacks\n",
    "\n",
    "np.random.seed(198)"
   ]
  },
  {
   "cell_type": "markdown",
   "metadata": {},
   "source": [
    "# Create model"
   ]
  },
  {
   "cell_type": "code",
   "execution_count": 18,
   "metadata": {},
   "outputs": [],
   "source": [
    "# Binarized convolution neural network\n",
    "def Create_BNN(input_shape, nb_classes, binarisation_type):\n",
    "    model_input = Input(shape=input_shape)\n",
    "\n",
    "    output = model_input\n",
    "\n",
    "    if binarisation_type == 'BinaryNet':\n",
    "        print('Using BinaryNet binary convolution layers')\n",
    "        layerType = BinaryNetConvBNReluLayer\n",
    "    elif binarisation_type == 'XNORNet':\n",
    "        print('Using XNORNet binary convolution layers')\n",
    "        layerType = BNXNORConvReluLayer\n",
    "    else:\n",
    "        assert False, 'Unsupported binarisation type!'\n",
    "\n",
    "    # As per the paper, the first layer can't be binary\n",
    "    output = ConvBNReluLayer(input=output, nb_filters=8, border='valid', kernel_size=(3, 3), stride=(1, 1))\n",
    "\n",
    "    output = layerType(input=output, nb_filters=16, border='valid', kernel_size=(3, 3), stride=(1, 1))\n",
    "    output = layerType(input=output, nb_filters=16, border='valid', kernel_size=(3, 3), stride=(1, 1))\n",
    "    output = MaxPooling2D((2, 2))(output)\n",
    "    output = layerType(input=output, nb_filters=32, border='valid', kernel_size=(3, 3), stride=(1, 1))\n",
    "    output = layerType(input=output, nb_filters=32, border='valid', kernel_size=(3, 3), stride=(1, 1))\n",
    "    output = MaxPooling2D((2, 2))(output)\n",
    "    output = Flatten()(output)\n",
    "    output = Dense(nb_classes, use_bias=True, activation='softmax')(output)\n",
    "\n",
    "    model = Model(inputs=model_input, outputs=output, name=binarisation_type)\n",
    "\n",
    "    model.summary()\n",
    "\n",
    "    return model"
   ]
  },
  {
   "cell_type": "markdown",
   "metadata": {},
   "source": [
    "# Data Preparation"
   ]
  },
  {
   "cell_type": "code",
   "execution_count": 2,
   "metadata": {},
   "outputs": [
    {
     "name": "stdout",
     "output_type": "stream",
     "text": [
      "(60000, 28, 28) (60000,)\n"
     ]
    }
   ],
   "source": [
    "data = pd.read_csv(\"../input/kan_mnist.csv\")\n",
    "classname = [str(n) for n in data.label.unique()]\n",
    "\n",
    "X, y = [],[]\n",
    "for i in range(len(data)):\n",
    "    re_X, re_y = data.iloc[i, 1:].values.reshape(28,28), data.iloc[i].label   \n",
    "    X.append(np.array(re_X))\n",
    "    y.append(np.array(re_y))\n",
    "    \n",
    "X = np.array(X)\n",
    "y = np.array(y)\n",
    "print(X.shape, y.shape)\n",
    "\n",
    "# data split\n",
    "X_train, y_train = X[:50000], y[:50000] \n",
    "X_test, y_test = X[50000:], y[50000:] \n",
    "\n",
    "if len(X_train.shape) < 4:\n",
    "    X_train = np.expand_dims(X_train, -1)\n",
    "    X_test = np.expand_dims(X_test, -1)\n",
    "\n",
    "input_shape = X_train.shape[1:]\n",
    "\n",
    "X_train = X_train.astype('float32')\n",
    "X_test = X_test.astype('float32')\n",
    "\n",
    "# normalize data\n",
    "X_train = X_train / 255.0\n",
    "X_test = X_test / 255.0\n",
    "\n",
    "nb_classes = y_train.max()+1\n",
    "\n",
    "# label to categorical \n",
    "y_test_cat = to_categorical(y_test, nb_classes)\n",
    "y_train_cat = to_categorical(y_train, nb_classes)"
   ]
  },
  {
   "cell_type": "markdown",
   "metadata": {},
   "source": [
    "# Parameters"
   ]
  },
  {
   "cell_type": "code",
   "execution_count": 8,
   "metadata": {},
   "outputs": [
    {
     "name": "stdout",
     "output_type": "stream",
     "text": [
      "Learning rate is: 0.004000\n",
      "Batch size is: 256\n"
     ]
    }
   ],
   "source": [
    "modelDirectory = os.getcwd()\n",
    "\n",
    "parameters = NetworkParameters(modelDirectory)\n",
    "parameters.nb_epochs = 5\n",
    "parameters.batch_size = 32\n",
    "parameters.lr = 0.0005\n",
    "parameters.batch_scale_factor = 8\n",
    "parameters.decay = 0.001\n",
    "\n",
    "# parameters.binarisation_type = 'XNORNet' # Either 'BinaryNet' or 'XNORNet'\n",
    "\n",
    "parameters.lr *= parameters.batch_scale_factor\n",
    "parameters.batch_size *= parameters.batch_scale_factor\n",
    "\n",
    "print('Learning rate is: %f' % parameters.lr)\n",
    "print('Batch size is: %d' % parameters.batch_size)\n",
    "\n",
    "optimiser = Adam(lr=parameters.lr, decay=parameters.decay)"
   ]
  },
  {
   "cell_type": "markdown",
   "metadata": {},
   "source": [
    "# XNOR-Net"
   ]
  },
  {
   "cell_type": "markdown",
   "metadata": {},
   "source": [
    "# _"
   ]
  },
  {
   "cell_type": "markdown",
   "metadata": {},
   "source": [
    "# Build model"
   ]
  },
  {
   "cell_type": "code",
   "execution_count": 19,
   "metadata": {
    "scrolled": true
   },
   "outputs": [
    {
     "name": "stdout",
     "output_type": "stream",
     "text": [
      "Using XNORNet binary convolution layers\n",
      "Model: \"XNORNet\"\n",
      "_________________________________________________________________\n",
      "Layer (type)                 Output Shape              Param #   \n",
      "=================================================================\n",
      "input_7 (InputLayer)         [(None, 28, 28, 1)]       0         \n",
      "_________________________________________________________________\n",
      "conv2d_6 (Conv2D)            (None, 26, 26, 8)         80        \n",
      "_________________________________________________________________\n",
      "batch_normalization_36 (Batc (None, 26, 26, 8)         32        \n",
      "_________________________________________________________________\n",
      "activation_36 (Activation)   (None, 26, 26, 8)         0         \n",
      "_________________________________________________________________\n",
      "batch_normalization_37 (Batc (None, 26, 26, 8)         32        \n",
      "_________________________________________________________________\n",
      "xnor_net_conv2d_30 (XNORNetC (None, 24, 24, 16)        1161      \n",
      "_________________________________________________________________\n",
      "activation_37 (Activation)   (None, 24, 24, 16)        0         \n",
      "_________________________________________________________________\n",
      "batch_normalization_38 (Batc (None, 24, 24, 16)        64        \n",
      "_________________________________________________________________\n",
      "xnor_net_conv2d_31 (XNORNetC (None, 22, 22, 16)        2313      \n",
      "_________________________________________________________________\n",
      "activation_38 (Activation)   (None, 22, 22, 16)        0         \n",
      "_________________________________________________________________\n",
      "max_pooling2d_12 (MaxPooling (None, 11, 11, 16)        0         \n",
      "_________________________________________________________________\n",
      "batch_normalization_39 (Batc (None, 11, 11, 16)        64        \n",
      "_________________________________________________________________\n",
      "xnor_net_conv2d_32 (XNORNetC (None, 9, 9, 32)          4617      \n",
      "_________________________________________________________________\n",
      "activation_39 (Activation)   (None, 9, 9, 32)          0         \n",
      "_________________________________________________________________\n",
      "batch_normalization_40 (Batc (None, 9, 9, 32)          128       \n",
      "_________________________________________________________________\n",
      "xnor_net_conv2d_33 (XNORNetC (None, 7, 7, 32)          9225      \n",
      "_________________________________________________________________\n",
      "activation_40 (Activation)   (None, 7, 7, 32)          0         \n",
      "_________________________________________________________________\n",
      "max_pooling2d_13 (MaxPooling (None, 3, 3, 32)          0         \n",
      "_________________________________________________________________\n",
      "flatten_6 (Flatten)          (None, 288)               0         \n",
      "_________________________________________________________________\n",
      "dense_6 (Dense)              (None, 10)                2890      \n",
      "=================================================================\n",
      "Total params: 20,606\n",
      "Trainable params: 20,446\n",
      "Non-trainable params: 160\n",
      "_________________________________________________________________\n"
     ]
    }
   ],
   "source": [
    "xnor_model = Create_BNN(input_shape=input_shape, nb_classes=nb_classes, binarisation_type='XNORNet')\n",
    "\n",
    "xnor_model.compile(loss='categorical_crossentropy',\n",
    "              optimizer=optimiser,\n",
    "              metrics=['accuracy'])"
   ]
  },
  {
   "cell_type": "code",
   "execution_count": 6,
   "metadata": {},
   "outputs": [],
   "source": [
    "# plot_model(xnor_model, to_file=os.path.join(os.getcwd(), 'results/arch/xnor_arch.png'),\n",
    "#                                   show_shapes=True, show_layer_names=False)"
   ]
  },
  {
   "cell_type": "markdown",
   "metadata": {},
   "source": [
    "# Training"
   ]
  },
  {
   "cell_type": "code",
   "execution_count": 20,
   "metadata": {},
   "outputs": [
    {
     "name": "stdout",
     "output_type": "stream",
     "text": [
      "Epoch 1/5\n",
      "196/196 [==============================] - 27s 140ms/step - loss: 0.4130 - accuracy: 0.8621 - val_loss: 2.4198 - val_accuracy: 0.2660\n",
      "Epoch 2/5\n",
      "196/196 [==============================] - 27s 138ms/step - loss: 0.1447 - accuracy: 0.9541 - val_loss: 1.0861 - val_accuracy: 0.6261\n",
      "Epoch 3/5\n",
      "196/196 [==============================] - 27s 139ms/step - loss: 0.1276 - accuracy: 0.9599 - val_loss: 0.1667 - val_accuracy: 0.9485\n",
      "Epoch 4/5\n",
      "196/196 [==============================] - 27s 139ms/step - loss: 0.1070 - accuracy: 0.9667 - val_loss: 0.1466 - val_accuracy: 0.9553\n",
      "Epoch 5/5\n",
      "196/196 [==============================] - 27s 139ms/step - loss: 0.0842 - accuracy: 0.9740 - val_loss: 0.0589 - val_accuracy: 0.9807\n"
     ]
    }
   ],
   "source": [
    "xnor_history = xnor_model.fit(x=X_train,\n",
    "          y=y_train_cat,\n",
    "          batch_size=parameters.batch_size,\n",
    "          epochs=parameters.nb_epochs,\n",
    "          callbacks=customLayerCallbacks,\n",
    "          validation_data=(X_test, y_test_cat),\n",
    "          shuffle=True,\n",
    "          verbose=1\n",
    "          )"
   ]
  },
  {
   "cell_type": "markdown",
   "metadata": {},
   "source": [
    "# Evaluation"
   ]
  },
  {
   "cell_type": "code",
   "execution_count": 7,
   "metadata": {},
   "outputs": [],
   "source": [
    "def plot_training(history):\n",
    "    fig, (ax1, ax2) = plt.subplots(2, 1, figsize=(8, 8))\n",
    "    plt.title(\"CNN\")\n",
    "    ax1.plot(history.history['loss'], color='b', label=\"Training loss\", linewidth=2)\n",
    "    ax1.plot(history.history['val_loss'], color='r', label=\"validation loss\", linewidth=2)\n",
    "    ax1.set_xticks(np.arange(0, parameters.nb_epochs, 1))\n",
    "    ax1.title.set_text(\"Loss (Training: \"+str(round(history.history['loss'][-1],4))+\", Validation: \"+str(round(history.history['val_loss'][-1],4))+\")\")\n",
    "    ax1.set_xlabel(\"Epochs\")\n",
    "    ax1.set_ylabel(\"Loss\")\n",
    "    ax1.legend(loc='best', shadow=False)\n",
    "\n",
    "    ax2.plot(history.history['acc'], color='b', label=\"Training accuracy\", linewidth=2)\n",
    "    ax2.plot(history.history['val_acc'], color='r',label=\"Validation accuracy\", linewidth=2)\n",
    "    ax2.set_xticks(np.arange(0, parameters.nb_epochs, 1))\n",
    "    ax2.title.set_text(\"Accuracy (Training: \"+str(round(history.history['acc'][-1]*100,2))+\"%, Validation: \"+str(round(history.history['val_acc'][-1]*100,2))+\"%)\")\n",
    "    ax2.set_xlabel(\"Epochs\")\n",
    "    ax2.set_ylabel(\"Accuracy\")\n",
    "    ax2.legend(loc='lower right', shadow=False)\n",
    "    plt.rcParams.update({'font.size': 10})\n",
    "    \n",
    "    plt.tight_layout()\n",
    "    plt.savefig('results/xnor_train_plot.png', bbox_inches='tight', dpi=200)\n",
    "    plt.show()"
   ]
  },
  {
   "cell_type": "code",
   "execution_count": 8,
   "metadata": {
    "scrolled": true
   },
   "outputs": [
    {
     "data": {
      "image/png": "[encoded data removed]",
      "text/plain": [
       "<Figure size 576x576 with 2 Axes>"
      ]
     },
     "metadata": {
      "needs_background": "light"
     },
     "output_type": "display_data"
    }
   ],
   "source": [
    "plot_training(xnor_history)"
   ]
  },
  {
   "cell_type": "markdown",
   "metadata": {},
   "source": [
    "### Save model"
   ]
  },
  {
   "cell_type": "code",
   "execution_count": 21,
   "metadata": {
    "scrolled": true
   },
   "outputs": [],
   "source": [
    "xnor_model.save('saved_models/xnor_lite_model.h5')"
   ]
  },
  {
   "cell_type": "markdown",
   "metadata": {},
   "source": [
    "### Load model"
   ]
  },
  {
   "cell_type": "code",
   "execution_count": 22,
   "metadata": {},
   "outputs": [],
   "source": [
    "xnorTest = load_model(filepath='saved_models/xnor_lite_model.h5', custom_objects=customLayersDictionary)"
   ]
  },
  {
   "cell_type": "code",
   "execution_count": 11,
   "metadata": {},
   "outputs": [
    {
     "name": "stdout",
     "output_type": "stream",
     "text": [
      "\n",
      "Best Keras validation accuracy is : 97.810000 \n",
      "\n"
     ]
    }
   ],
   "source": [
    "validationAccuracy = xnorTest.evaluate(X_test, y_test_cat, verbose=1)\n",
    "print('\\nBest Keras validation accuracy is : %f \\n' % (100.0 * validationAccuracy[1]))"
   ]
  },
  {
   "cell_type": "code",
   "execution_count": 14,
   "metadata": {},
   "outputs": [],
   "source": [
    "pred = xnorTest.predict(X_test)"
   ]
  },
  {
   "cell_type": "code",
   "execution_count": 30,
   "metadata": {
    "scrolled": false
   },
   "outputs": [
    {
     "data": {
      "image/png": "[encoded data removed]",
      "text/plain": [
       "<Figure size 864x864 with 10 Axes>"
      ]
     },
     "metadata": {
      "needs_background": "light"
     },
     "output_type": "display_data"
    }
   ],
   "source": [
    "fig, axes = plt.subplots(2, 5, figsize=(12,12))\n",
    "for i in range(10):\n",
    "    ax = axes[i//5, i%5]\n",
    "    ax.imshow(X_test[i], cmap=plt.get_cmap('gray'))\n",
    "    ind = np.argmax(pred[i])\n",
    "    ax.set_title(f\"GT:{np.argmax(y_test_cat[i])}| Pred:{ind} - {str(np.max(pred[ind])*100)[:4]}%\")\n",
    "    ax.axis(\"off\")\n",
    "    \n",
    "plt.tight_layout()\n",
    "plt.savefig('results/xnor_pred.jpg',dpi=300)\n",
    "plt.show()"
   ]
  },
  {
   "cell_type": "markdown",
   "metadata": {},
   "source": [
    "# Confusion matrix "
   ]
  },
  {
   "cell_type": "code",
   "execution_count": 12,
   "metadata": {},
   "outputs": [],
   "source": [
    "def plot_confusion_matrix(cm, classes,\n",
    "                          normalize=True,\n",
    "                          title='Test Dataset',\n",
    "                          cmap=plt.cm.Blues,\n",
    "                          save=0):\n",
    "    \"\"\"\n",
    "    This function prints and plots the confusion matrix.\n",
    "    Normalization can be applied by setting `normalize=True`.\n",
    "    \"\"\"\n",
    "    plt.figure(figsize=(6,6))\n",
    "    \n",
    "    plt.title(title)\n",
    "    \n",
    "    tick_marks = np.arange(len(classes))\n",
    "    plt.xticks(tick_marks, classname)\n",
    "    plt.yticks(tick_marks, classname)\n",
    "\n",
    "    if normalize:\n",
    "        cm = cm.astype('float') / cm.sum(axis=1)[:, np.newaxis]\n",
    "\n",
    "    thresh = cm.max() / 2.\n",
    "    for i, j in itertools.product(range(cm.shape[0]), range(cm.shape[1])):\n",
    "        plt.text(j, i, round(cm[i, j],2),\n",
    "                 ha=\"center\", va=\"center\",\n",
    "                 color=\"white\" if cm[i, j] > thresh else \"black\")\n",
    "\n",
    "    plt.ylabel('Ground Truth')\n",
    "    plt.xlabel('Prediction')\n",
    "    plt.tight_layout()\n",
    "    sh = plt.imshow(cm, interpolation='none', cmap=cmap)\n",
    "    plt.colorbar(sh,fraction=0.046)\n",
    "    if save!=0:\n",
    "      plt.savefig(save+'_cm.jpg',dpi=300)"
   ]
  },
  {
   "cell_type": "code",
   "execution_count": 15,
   "metadata": {},
   "outputs": [
    {
     "name": "stdout",
     "output_type": "stream",
     "text": [
      "              precision    recall  f1-score   support\n",
      "\n",
      "           0       0.97      0.99      0.98      1000\n",
      "           1       0.94      1.00      0.97      1000\n",
      "           2       0.99      0.99      0.99      1000\n",
      "           3       0.99      0.96      0.98      1000\n",
      "           4       0.99      0.99      0.99      1000\n",
      "           5       0.98      0.97      0.97      1000\n",
      "           6       0.98      0.95      0.97      1000\n",
      "           7       0.95      0.98      0.97      1000\n",
      "           8       1.00      1.00      1.00      1000\n",
      "           9       1.00      0.95      0.97      1000\n",
      "\n",
      "    accuracy                           0.98     10000\n",
      "   macro avg       0.98      0.98      0.98     10000\n",
      "weighted avg       0.98      0.98      0.98     10000\n",
      "\n"
     ]
    },
    {
     "data": {
      "image/png": "[encoded data removed]",
      "text/plain": [
       "<Figure size 432x432 with 2 Axes>"
      ]
     },
     "metadata": {
      "needs_background": "light"
     },
     "output_type": "display_data"
    }
   ],
   "source": [
    "X_train_pred = np.argmax(pred,axis=1)\n",
    "X_train_true = np.argmax(y_test_cat,axis=1)\n",
    "\n",
    "f1_report = classification_report(X_train_true, X_train_pred, target_names=classname)\n",
    "print(f1_report)\n",
    "with open(\"results/xnor_f1_report.txt\", \"w\") as f:\n",
    "    f.write(f1_report)\n",
    "\n",
    "train_confusion_mtx = confusion_matrix(X_train_true, X_train_pred) \n",
    "# plot the confusion matrix\n",
    "plot_confusion_matrix(train_confusion_mtx,classes = range(len(classname)),title=\"Test Dataset - XNOR-Net\", save='results/xnor') \n",
    "# plot_confusion_matrix(train_confusion_mtx,classes = range(len(classname)), save='output/latest_distress_v2_cnn_P92') \n"
   ]
  },
  {
   "cell_type": "markdown",
   "metadata": {},
   "source": [
    "# **********************************"
   ]
  },
  {
   "cell_type": "markdown",
   "metadata": {},
   "source": [
    "# TF Lite"
   ]
  },
  {
   "cell_type": "markdown",
   "metadata": {},
   "source": [
    "## Export our model for tflite\n",
    "\n",
    "We need to convert our model into a tflite model"
   ]
  },
  {
   "cell_type": "code",
   "execution_count": 23,
   "metadata": {},
   "outputs": [
    {
     "name": "stdout",
     "output_type": "stream",
     "text": [
      "data\n"
     ]
    },
    {
     "name": "stderr",
     "output_type": "stream",
     "text": [
      "Use '@tf.function' or '@defun' to decorate the function.Use '@tf.function' or '@defun' to decorate the function.Use '@tf.function' or '@defun' to decorate the function."
     ]
    },
    {
     "data": {
      "text/plain": [
       "32960"
      ]
     },
     "execution_count": 23,
     "metadata": {},
     "output_type": "execute_result"
    }
   ],
   "source": [
    "import tensorflow as tf\n",
    "images = tf.cast(X_test, tf.float32) / 255.0\n",
    "mnist_ds = tf.data.Dataset.from_tensor_slices((images)).batch(1)\n",
    "def representative_data_gen():\n",
    "  for input_value in mnist_ds.take(1):\n",
    "    yield [input_value]\n",
    "\n",
    "converter = tf.lite.TFLiteConverter.from_keras_model(xnorTest)\n",
    "converter.allow_custom_ops = True\n",
    "converter.optimizations = [tf.lite.Optimize.DEFAULT]\n",
    "\n",
    "converter.target_spec.supported_ops = [\n",
    "#   tf.lite.OpsSet.TFLITE_BUILTINS, # enable TensorFlow Lite ops.\n",
    "  tf.lite.OpsSet.SELECT_TF_OPS, # enable TensorFlow ops.\n",
    "  tf.lite.OpsSet.TFLITE_BUILTINS_INT8\n",
    "]\n",
    "print(\"data\")\n",
    "# converter.representative_dataset = representative_data_gen\n",
    "tflite_quant_model = converter.convert()\n",
    "open(\"converted_model.tflite\", \"wb\").write(tflite_quant_model)"
   ]
  },
  {
   "cell_type": "markdown",
   "metadata": {},
   "source": [
    "## To convert to C++\n",
    "We can then run this command to convert the model to c code.\n",
    "```\n",
    "xxd -i converted_model.tflite > model_data.cc\n",
    "```"
   ]
  },
  {
   "cell_type": "code",
   "execution_count": 24,
   "metadata": {},
   "outputs": [],
   "source": [
    "!xxd -i converted_model.tflite > model_data.cc"
   ]
  },
  {
   "cell_type": "code",
   "execution_count": 4,
   "metadata": {},
   "outputs": [
    {
     "data": {
      "text/plain": [
       "numpy.ndarray"
      ]
     },
     "execution_count": 4,
     "metadata": {},
     "output_type": "execute_result"
    }
   ],
   "source": [
    "type(X_test)"
   ]
  },
  {
   "cell_type": "code",
   "execution_count": null,
   "metadata": {},
   "outputs": [],
   "source": []
  },
  {
   "cell_type": "code",
   "execution_count": null,
   "metadata": {},
   "outputs": [],
   "source": []
  },
  {
   "cell_type": "code",
   "execution_count": null,
   "metadata": {},
   "outputs": [],
   "source": []
  }
 ],
 "metadata": {
  "kernelspec": {
   "display_name": "Python 3",
   "language": "python",
   "name": "python3"
  },
  "language_info": {
   "codemirror_mode": {
    "name": "ipython",
    "version": 3
   },
   "file_extension": ".py",
   "mimetype": "text/x-python",
   "name": "python",
   "nbconvert_exporter": "python",
   "pygments_lexer": "ipython3",
   "version": "3.6.9"
  }
 },
 "nbformat": 4,
 "nbformat_minor": 4
}
